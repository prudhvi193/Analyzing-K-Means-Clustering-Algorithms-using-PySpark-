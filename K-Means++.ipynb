{
  "nbformat": 4,
  "nbformat_minor": 0,
  "metadata": {
    "colab": {
      "name": "Project-3/Group-12 (K-Means++).ipynb",
      "provenance": [],
      "collapsed_sections": [],
      "authorship_tag": "ABX9TyNyQsgjwXaFe/9Co/UNkziI",
      "include_colab_link": true
    },
    "kernelspec": {
      "name": "python3",
      "display_name": "Python 3"
    }
  },
  "cells": [
    {
      "cell_type": "markdown",
      "metadata": {
        "id": "view-in-github",
        "colab_type": "text"
      },
      "source": [
        "<a href=\"https://colab.research.google.com/github/prudhvi193/Analyzing-K-Means-Clustering-Algorithms-using-PySpark-/blob/main/K-Means%2B%2B.ipynb\" target=\"_parent\"><img src=\"https://colab.research.google.com/assets/colab-badge.svg\" alt=\"Open In Colab\"/></a>"
      ]
    },
    {
      "cell_type": "markdown",
      "metadata": {
        "id": "WLBNPIo_VnSV"
      },
      "source": [
        "***K-Means++ Clustering***"
      ]
    },
    {
      "cell_type": "code",
      "metadata": {
        "id": "r4s3hA1n0Xe1",
        "colab": {
          "base_uri": "https://localhost:8080/",
          "height": 258
        },
        "outputId": "fb850ea5-43d6-4b24-8e7e-caada12be893"
      },
      "source": [
        "# Name : Prudhviraj Sheela | OSU CWID : A20228857\n",
        "# Name : Aman Masipeddi | OSU CWID : A20198116  \n",
        "\n",
        "!pip install pyspark"
      ],
      "execution_count": null,
      "outputs": [
        {
          "output_type": "stream",
          "text": [
            "Collecting pyspark\n",
            "\u001b[?25l  Downloading https://files.pythonhosted.org/packages/f0/26/198fc8c0b98580f617cb03cb298c6056587b8f0447e20fa40c5b634ced77/pyspark-3.0.1.tar.gz (204.2MB)\n",
            "\u001b[K     |████████████████████████████████| 204.2MB 65kB/s \n",
            "\u001b[?25hCollecting py4j==0.10.9\n",
            "\u001b[?25l  Downloading https://files.pythonhosted.org/packages/9e/b6/6a4fb90cd235dc8e265a6a2067f2a2c99f0d91787f06aca4bcf7c23f3f80/py4j-0.10.9-py2.py3-none-any.whl (198kB)\n",
            "\u001b[K     |████████████████████████████████| 204kB 25.7MB/s \n",
            "\u001b[?25hBuilding wheels for collected packages: pyspark\n",
            "  Building wheel for pyspark (setup.py) ... \u001b[?25l\u001b[?25hdone\n",
            "  Created wheel for pyspark: filename=pyspark-3.0.1-py2.py3-none-any.whl size=204612243 sha256=e0a8e6085b1d250c9bc5b185cfe3a8f89a7afc0130987ec51ce3ad3c6ee77514\n",
            "  Stored in directory: /root/.cache/pip/wheels/5e/bd/07/031766ca628adec8435bb40f0bd83bb676ce65ff4007f8e73f\n",
            "Successfully built pyspark\n",
            "Installing collected packages: py4j, pyspark\n",
            "Successfully installed py4j-0.10.9 pyspark-3.0.1\n"
          ],
          "name": "stdout"
        }
      ]
    },
    {
      "cell_type": "code",
      "metadata": {
        "id": "r8OxD4gnj9ZZ"
      },
      "source": [
        "import pyspark # Importing PySpark\n",
        "from pyspark import SparkContext \n",
        "import numpy as np\n",
        "import itertools\n",
        "from operator import add\n",
        "import random\n",
        "k = 10 # Number of clusters\n",
        "I = 20 # Number of Iterations\n",
        "data_file = '/content/data.txt'\n",
        "data_content  = np.genfromtxt(data_file) # We initially use genfrmtxt for loading data and get the data into an array\n",
        "entries,dimensions = data_content.shape # This stores the details about the number of entries and its associated dimensions"
      ],
      "execution_count": null,
      "outputs": []
    },
    {
      "cell_type": "code",
      "metadata": {
        "id": "X3yg3LpX1CvR"
      },
      "source": [
        "sc = SparkContext(\"local\",\"K-Means++ Algorithm: Clustering algorithm k-means++ style of centroid initialization\") # Creating the Spark Context\n",
        "rdd1 = sc.textFile(data_file) # We read the text file and then preprocess it accordingly\n",
        "rdd2 = rdd1.map(lambda x : x.split()) # We split the data to collect individual data point as a list\n",
        "rdd3 = rdd2.map(lambda x : [float(i) for i in x]) # Converting each data point in the list from string to float\n",
        "rdd4 = rdd3.zipWithIndex().map(lambda x : (x[1],x[0])) # Assiging each data point an index"
      ],
      "execution_count": null,
      "outputs": []
    },
    {
      "cell_type": "markdown",
      "metadata": {
        "id": "MbnZE_HH2Gnh"
      },
      "source": [
        "***Squared Eucledian Distance Computation for Initial K-Centroids***"
      ]
    },
    {
      "cell_type": "code",
      "metadata": {
        "id": "RWnFDgZakYtQ"
      },
      "source": [
        "# In this below steps we find obtain the cluster centroids associated with K-Means++ accordingly\n",
        "\n",
        "# The below function computes the squared eucledian distance(D) to existing cluster centroid for finding the farthest centroid data point\n",
        "\n",
        "def farthest_centroid_computation(a):\n",
        "  m = np.array(a[1])\n",
        "  distance_maximum = -np.inf # Assuming the initial maximum distance as \"infinity\"\n",
        "  for i in broadcasted_centroids.value:\n",
        "    j = i[0]\n",
        "    centroid_point = np.array(i[1])\n",
        "    squared_eucledian_distance = np.sum((m - centroid_point)**2) # Computing the squared eucledian distance\n",
        "    if squared_eucledian_distance > distance_maximum: # Here we check which particular data point is the farthest from the choosen cluster's centroid\n",
        "      distance_maximum = squared_eucledian_distance\n",
        "      centroid_far = j # Here we update the next centroid details\n",
        "  return (a[0], distance_maximum) # We return the data point farthest and its maximum distance obtained\n",
        "\n",
        "# In the below function we filter the centroids based on their values present in the origianl data\n",
        "def filtering_centroids(a):\n",
        "  if a[0] in broadcasted_centroids_keys.value: # We check if the choosen original data contains the initial centroid and if it si present we elimiate it\n",
        "    return ()\n",
        "  else: # If the above condition is not satisfies then we forward data point 'a' as the new initial centroid\n",
        "    return a\n",
        "\n",
        "initial_centroids = sc.parallelize(rdd4.takeSample(False,1)) # We choose the initial centroid and fix it as the first random point\n",
        "broadcasted_centroids = sc.broadcast(initial_centroids.collect()) # Through this variable we broadcast the initial centroids details\n",
        "broadcasted_centroids_keys = sc.broadcast(initial_centroids.keys().collect()) # Through this variable we broadcast the initial centroids index which is its key\n",
        "\n",
        "c = 1 # Maintains the count of clusters obtained in next iterations\n",
        "\n",
        "# In the below while loop we perform 10 iterations to obtain all the clusters\n",
        "while c < k:\n",
        "  filter_data = rdd4.map(filtering_centroids).filter(lambda a : a) # Filters and checks if the intial centroid is in the original data and returns its tuple\n",
        "\n",
        "  centroids_far_data = filter_data.map(lambda a : farthest_centroid_computation(a)) # Computes for finding the farthest centroid available from the initial centroid\n",
        "\n",
        "  sum_value = centroids_far_data.map(lambda a : a[1]).sum() # Finding the sum of all dimesnions of the farthest centoid data point\n",
        "\n",
        "  centroids_far_data = centroids_far_data.map(lambda a : (a[0],a[1]/sum_value)) # Computing the next data centroid by dividing each of its value by obtained sum for evaluating their probabilities\n",
        "\n",
        "  keys_list = centroids_far_data.keys().collect() # Collecting the index of each next centroid obtained as a list of keys\n",
        "\n",
        "  values_list = centroids_far_data.values().collect() # Collecting the data points obtained for next centroid obtained as a list of values\n",
        "\n",
        "  M = np.random.choice(keys_list,1,values_list) # We obtain a random value i.e, the data point from the keys and values obtained \n",
        "\n",
        "  centroid_latest = filter_data.filter(lambda a : a[0] == M) # In this we check out if the obtained 'M' data point is equal to that of the filtered data point which is the cluster's centroid\n",
        "\n",
        "  initial_centroids = initial_centroids.union(centroid_latest) # Now we ass the latest centroid obtained with the initial centroid which is processed with the next iterations of 'M'\n",
        "\n",
        "  broadcasted_centroids = sc.broadcast(initial_centroids.collect()) # The new cluster's centroids to be broadcasted are reassigned\n",
        "\n",
        "  broadcasted_centroids_keys = sc.broadcast(initial_centroids.keys().collect()) # The new cluster's keys i.e, the index to be broadcasted are reassigned\n",
        "\n",
        "  c += 1 # We increment the value of 'c' for obtaining the next cluster's centroid based on the broadcasted centroid details"
      ],
      "execution_count": null,
      "outputs": []
    },
    {
      "cell_type": "code",
      "metadata": {
        "id": "3mtq6e1AcigQ",
        "colab": {
          "base_uri": "https://localhost:8080/",
          "height": 258
        },
        "outputId": "594454b7-54cf-4b45-f6f4-03dc408688c7"
      },
      "source": [
        "# Below are the initial random clusters obtained for K-Means++\n",
        "print(\"\\033[1m\" + \"K-Centroids obtained in K-Means++.ipynb\" + \"\\033[1m\")\n",
        "print(\"\\n\")         \n",
        "for item in initial_centroids.collect():\n",
        "  print(item)           "
      ],
      "execution_count": null,
      "outputs": [
        {
          "output_type": "stream",
          "text": [
            "\u001b[1mK-Centroids obtained in K-Means++.ipynb\u001b[1m\n",
            "\n",
            "\n",
            "(2131, [0.6, 0.0, 0.0, 0.0, 0.91, 0.0, 0.0, 0.0, 0.0, 0.0, 0.0, 0.91, 0.6, 0.0, 0.0, 0.0, 0.0, 0.0, 1.21, 0.0, 1.82, 0.0, 0.0, 0.0, 0.3, 0.3, 0.0, 0.0, 0.0, 0.0, 0.0, 0.0, 0.0, 0.0, 0.0, 0.0, 0.6, 0.0, 0.0, 0.0, 0.0, 0.91, 0.0, 0.0, 0.3, 0.0, 0.0, 0.3, 0.088, 0.044, 0.0, 0.044, 0.0, 0.0, 2.222, 22.0, 120.0, 0.0])\n",
            "(4427, [0.0, 0.0, 0.0, 0.0, 0.0, 0.0, 0.0, 0.0, 0.0, 0.0, 0.0, 0.0, 0.0, 0.0, 0.0, 3.03, 0.0, 3.03, 3.03, 0.0, 3.03, 0.0, 0.0, 0.0, 0.0, 0.0, 0.0, 0.0, 0.0, 0.0, 0.0, 0.0, 0.0, 0.0, 0.0, 0.0, 0.0, 0.0, 0.0, 0.0, 0.0, 0.0, 0.0, 0.0, 0.0, 0.0, 0.0, 0.0, 0.0, 0.0, 0.0, 0.0, 0.0, 0.0, 5.153, 55.0, 67.0, 0.0])\n",
            "(2447, [0.0, 0.0, 0.0, 0.0, 0.0, 0.0, 0.0, 0.0, 0.0, 0.0, 0.0, 0.89, 0.0, 0.0, 0.0, 0.0, 0.0, 0.0, 3.57, 0.0, 2.67, 0.0, 0.0, 0.0, 0.0, 0.0, 0.0, 0.0, 0.0, 0.0, 0.0, 0.0, 0.0, 0.0, 0.0, 0.0, 0.0, 0.0, 0.0, 0.0, 0.0, 0.0, 0.0, 0.0, 0.0, 0.0, 0.0, 0.0, 0.0, 0.0, 0.0, 0.0, 0.0, 0.0, 2.375, 23.0, 38.0, 0.0])\n",
            "(3979, [0.0, 0.0, 4.34, 0.0, 0.0, 0.0, 0.0, 0.0, 0.0, 0.0, 0.0, 0.0, 0.0, 0.0, 0.0, 0.0, 0.0, 0.0, 0.0, 0.0, 0.0, 0.0, 0.0, 0.0, 0.0, 0.0, 0.0, 0.0, 0.0, 0.0, 0.0, 0.0, 0.0, 0.0, 0.0, 0.0, 0.0, 0.0, 0.0, 0.0, 0.0, 0.0, 0.0, 0.0, 0.0, 0.0, 0.0, 0.0, 0.0, 0.0, 0.0, 1.342, 0.0, 0.0, 1.2, 2.0, 12.0, 0.0])\n",
            "(3830, [0.55, 0.0, 0.0, 0.0, 0.0, 0.0, 0.0, 0.0, 0.0, 0.55, 0.0, 0.0, 0.0, 0.0, 0.0, 0.0, 0.0, 0.0, 0.0, 0.0, 0.0, 0.0, 0.0, 0.0, 1.11, 0.55, 1.66, 0.55, 0.55, 0.55, 0.55, 0.55, 0.0, 0.55, 0.55, 0.55, 0.55, 0.0, 0.55, 0.55, 0.0, 0.0, 0.55, 0.0, 0.55, 0.0, 0.0, 0.0, 0.0, 0.367, 0.091, 0.0, 0.0, 0.0, 2.117, 12.0, 108.0, 0.0])\n",
            "(4227, [0.0, 0.0, 0.58, 0.0, 0.0, 0.58, 0.0, 0.0, 0.0, 0.0, 0.0, 0.0, 0.0, 0.0, 0.0, 0.0, 0.0, 0.0, 1.76, 0.0, 1.17, 0.0, 0.0, 0.0, 0.0, 0.0, 0.0, 0.0, 0.0, 0.0, 0.0, 0.0, 0.0, 0.0, 0.0, 0.0, 0.0, 0.0, 0.0, 0.0, 0.0, 0.0, 0.0, 0.0, 0.0, 0.0, 0.0, 0.0, 0.0, 0.108, 0.108, 0.432, 0.0, 0.0, 1.0, 1.0, 35.0, 0.0])\n",
            "(3513, [0.0, 0.0, 0.0, 0.0, 0.0, 0.0, 0.68, 0.0, 0.0, 0.68, 0.0, 0.0, 0.0, 0.0, 0.0, 0.0, 0.0, 0.0, 1.37, 0.0, 2.06, 0.0, 0.0, 0.0, 0.0, 0.0, 0.68, 0.0, 0.0, 0.0, 0.0, 0.68, 0.0, 0.68, 0.0, 0.0, 0.0, 0.0, 0.0, 0.0, 0.0, 0.0, 0.0, 0.0, 0.0, 0.0, 0.0, 0.0, 0.0, 0.144, 0.0, 0.0, 0.0, 0.072, 3.369, 19.0, 155.0, 0.0])\n",
            "(4307, [0.0, 0.0, 0.71, 0.0, 0.0, 0.0, 0.0, 0.0, 0.0, 0.0, 0.0, 0.71, 0.71, 0.0, 0.0, 0.0, 0.0, 0.0, 0.71, 0.0, 0.0, 0.0, 0.0, 0.0, 0.0, 0.0, 0.0, 0.0, 0.0, 0.0, 0.0, 0.0, 0.0, 0.0, 0.0, 0.0, 0.0, 0.0, 0.0, 0.0, 0.0, 0.0, 0.0, 0.0, 0.0, 0.0, 0.0, 0.0, 0.0, 0.121, 0.0, 0.243, 0.0, 0.0, 1.0, 1.0, 31.0, 0.0])\n",
            "(4532, [0.0, 0.0, 0.0, 0.0, 0.0, 0.0, 0.0, 0.0, 0.0, 0.0, 0.0, 1.92, 0.0, 0.0, 0.0, 1.92, 0.0, 0.0, 3.84, 0.0, 1.92, 0.0, 0.0, 0.0, 0.0, 0.0, 0.0, 0.0, 0.0, 0.0, 0.0, 0.0, 0.0, 0.0, 0.0, 0.0, 0.0, 0.0, 0.0, 0.0, 1.92, 0.0, 0.0, 0.0, 1.92, 1.92, 0.0, 0.0, 0.0, 0.0, 0.0, 0.0, 0.0, 0.0, 1.611, 5.0, 29.0, 0.0])\n",
            "(2277, [0.0, 0.0, 0.0, 0.0, 0.0, 0.0, 0.0, 0.0, 0.0, 0.29, 0.0, 0.0, 0.0, 0.0, 0.0, 0.0, 0.0, 0.0, 0.58, 0.0, 0.58, 0.0, 0.0, 0.0, 3.51, 2.34, 0.87, 2.34, 0.58, 1.17, 0.58, 0.58, 0.0, 0.58, 1.17, 0.58, 0.29, 0.0, 0.87, 0.58, 0.0, 0.87, 0.29, 0.0, 0.58, 0.0, 0.0, 0.0, 0.091, 0.637, 0.045, 0.0, 0.0, 0.0, 3.552, 37.0, 373.0, 0.0])\n"
          ],
          "name": "stdout"
        }
      ]
    },
    {
      "cell_type": "markdown",
      "metadata": {
        "id": "eGWZIx7D1_e5"
      },
      "source": [
        "***Eucledian Distance Computation***"
      ]
    },
    {
      "cell_type": "code",
      "metadata": {
        "id": "CKu7yo9BkXiY"
      },
      "source": [
        "# The below function generates the eucledian distance associated between the data point and the centroid\n",
        "def euclidean_distance_calculation(centroid_data, original_data):\n",
        "  centroid_number = np.array(centroid_data[1]) # In this we collect the cluster's centroid data point\n",
        "  datapoint_details = np.array(original_data[1]) # In this we store each data point\n",
        "  euclidean_distance = np.sqrt(np.sum((centroid_number - datapoint_details)**2)) # Eucledian distance computed is stored in this variable\n",
        "  return (original_data[0], (centroid_data[0],euclidean_distance)) # Return the (original data point, (associated cluster's centroid, eucledian distance obtained in between the points))\n",
        "\n",
        "# The below function caluclates the minimum distance obtained for each cluster and assigns those data points to that associated cluster\n",
        "def minimum_distance(data_row):\n",
        "  data_index = data_row[0] # Obtaining index of the cluster's centroid\n",
        "  distance_centroids = data_row[1]  # Getting the list of eucledian distances computed\n",
        "  centroid_minimum_index = -1 # Initialize the centroid's mimimum index to '-1' initially\n",
        "  min_distance = -1 # Initialize the minimum distance to '-1' initially\n",
        "  centroid_closest = None # Initialize the closest centroid value to 'None' initially\n",
        "  for i in distance_centroids: # In the below iterations we try to obtain the minimum distance for each data point i,e; the centroids\n",
        "    index_centroid = i[0]\n",
        "    distance_euclidean = i[1]\n",
        "    if (distance_euclidean < min_distance) or (min_distance == -1): # In this we check the if the obtained eucledian distance is minimum or not and attach that data point to the centroid closest\n",
        "      min_distance = distance_euclidean\n",
        "      centroid_minimum_index = index_centroid\n",
        "      centroid_closest = (centroid_minimum_index, min_distance)\n",
        "  return (data_index, centroid_closest) # Returning the data points that are closest to the choosen centroid\n",
        "\n",
        "# In this function we assign the data points to each associated cluster for which we pass inputs as original data and random obtained centroids\n",
        "def cluster_assignment(centroids_data, original_data):\n",
        "  centroid = centroids_data.cartesian(original_data) # Obtaining all the combinations possible with the initial centroids obtained and the original data\n",
        "  distance_centroids_original_data = centroid.map(lambda a : euclidean_distance_calculation(a[0],a[1])) # Calculating eucledian distance for each combination obtained\n",
        "  assign_datato_cluster_closest = distance_centroids_original_data.groupByKey().map(lambda a : (a[0],list(a[1]))).map(lambda a : minimum_distance(a)) # Evaluating for the minimum distance that is obtained for computing the cost function\n",
        "  return assign_datato_cluster_closest # Returning the data points closest to the cluster centroids associated\n",
        "\n",
        "# In the below functions we compute for the next set of centroids for the next iteration\n",
        "def computing_centroid(indexof_centroid, elementsof_cluster):\n",
        "  final_cluster_elements = []\n",
        "  for item in elementsof_cluster:\n",
        "    final_cluster_elements.append(item[0])\n",
        "  array_average = list(np.average(final_cluster_elements, axis = 0)) # Centroid coordinates computation\n",
        "  centroid_obtained = (indexof_centroid, array_average)\n",
        "  return centroid_obtained\n",
        "\n",
        "# Computing new centroids from the previous centroids obtained in the before iterations\n",
        "def computing_centroids(min_distance):\n",
        "  cluster_data = min_distance.join(rdd4).map(lambda a : (a[1][0][0],(a[1][1],a[1][0][1])))\n",
        "  cluster_data = cluster_data.groupByKey().map(lambda a : (a[0],list(a[1])))\n",
        "  centroids_obtained = cluster_data.map(lambda a : computing_centroid(a[0],a[1]))\n",
        "  return centroids_obtained"
      ],
      "execution_count": null,
      "outputs": []
    },
    {
      "cell_type": "code",
      "metadata": {
        "id": "isX-ObuNkZUg",
        "colab": {
          "base_uri": "https://localhost:8080/",
          "height": 357
        },
        "outputId": "869a585d-8e5f-4f52-b3ed-c37fde363fc4"
      },
      "source": [
        "iter = 0 # This variable is to update the number of iterations\n",
        "final_res = np.zeros((I,2)) # This variable stores the final eucledian cost obtained for each iteration\n",
        "gen_centroids = initial_centroids # These are initial centroids obtained in the above step\n",
        "cost_eucledian = dict() # This variable stores the eucledian cost of each iteration obtaine for computing the percentages of cost function associated for eucledian metric\n",
        "\n",
        "# In the below step we iterate the algorithm through I=20 iterations for evaluating the distance metrics and their associated cost functions\n",
        "while iter < I:\n",
        "\n",
        "  iter += 1 # Incrementing each iteration\n",
        "\n",
        "  assign_datato_cluster = cluster_assignment(gen_centroids, rdd4) # Obtaining the details of data points assigned for all the clusters associated\n",
        "\n",
        "  centroids_new_computed = computing_centroids(assign_datato_cluster) # Computing for the next set of cluster's centroids for the next set of iterations\n",
        "\n",
        "  clusters_assigned = assign_datato_cluster.map(lambda a : a[1][1]**2) # Collecting all the centroids assigned for each cluster and finding their squared distance\n",
        "\n",
        "  costfun_eucledian = clusters_assigned.sum() # We find the cost function for each iteration by summing all the centroid points for the associated clusters\n",
        "\n",
        "  print(\"Iteration Number %.1d : %.2f\" %(iter,costfun_eucledian)) # We print the output of costfun obtained at each iteration\n",
        "\n",
        "  cost_eucledian[iter] = costfun_eucledian # Stores the eucledian distance obtained for each iteration for computing its percentage and measure performances\n",
        "\n",
        "  final_res[iter-1,:] = np.array([iter, costfun_eucledian]) # In this we store the iteration and its corresponding cost function obtaine for plotting the graph in successive steps\n",
        "\n",
        "  gen_centroids = sc.parallelize(centroids_new_computed.collect()) # This stores the next set of centroids for the next iterations and again the process continues accordingly"
      ],
      "execution_count": null,
      "outputs": [
        {
          "output_type": "stream",
          "text": [
            "Iteration Number 1 : 1595577532.80\n",
            "Iteration Number 2 : 1147160456.53\n",
            "Iteration Number 3 : 942957520.13\n",
            "Iteration Number 4 : 829474526.44\n",
            "Iteration Number 5 : 752453729.02\n",
            "Iteration Number 6 : 708943163.10\n",
            "Iteration Number 7 : 651932399.15\n",
            "Iteration Number 8 : 582365595.98\n",
            "Iteration Number 9 : 552070794.00\n",
            "Iteration Number 10 : 533702589.59\n",
            "Iteration Number 11 : 519432593.60\n",
            "Iteration Number 12 : 506301177.25\n",
            "Iteration Number 13 : 494716933.30\n",
            "Iteration Number 14 : 486704710.49\n",
            "Iteration Number 15 : 480679318.48\n",
            "Iteration Number 16 : 476481006.95\n",
            "Iteration Number 17 : 472585251.28\n",
            "Iteration Number 18 : 469372374.27\n",
            "Iteration Number 19 : 467589571.99\n",
            "Iteration Number 20 : 466356263.67\n"
          ],
          "name": "stdout"
        }
      ]
    },
    {
      "cell_type": "code",
      "metadata": {
        "id": "eIooLJO_SZ9X",
        "colab": {
          "base_uri": "https://localhost:8080/",
          "height": 369
        },
        "outputId": "f8045280-1e49-407c-d84f-d52f4964fc97"
      },
      "source": [
        "# Below packages are necessary for creating the line plots\n",
        "import matplotlib as mplib\n",
        "import matplotlib.pyplot as pl\n",
        "figure1, axes1 = pl.subplots(1,1,figsize=(7,5)) # Specifying the dimensions of graph\n",
        "# In the below step we assign a line plot for the iterations and the cost function\n",
        "axes1.plot(final_res[:,0], final_res[:,1], 'go-', linewidth = 2, markersize = 12, markeredgewidth = 2, label = 'Cost Function Normalized', fillstyle = 'none')\n",
        "axes1.set_xlabel(\"$No$ of $Iterations$ $(I)$\") # Setting the x-label to no.of iterations\n",
        "axes1.set_ylabel(\"$Cost$ Function $(Φ)$\") # Setting the y-label to cost function of eucledian\n",
        "axes1.set_title(\"$K-$Means $Clustering$\") # Assigning the title for the graph\n",
        "axes1.legend(loc=0)\n",
        "figure1.tight_layout() # Adjusts the graph to a tight layout\n",
        "pl.show() # Displays the plot"
      ],
      "execution_count": null,
      "outputs": [
        {
          "output_type": "display_data",
          "data": {
            "image/png": "[encoded data removed]",
            "text/plain": [
              "<Figure size 504x360 with 1 Axes>"
            ]
          },
          "metadata": {
            "tags": [],
            "needs_background": "light"
          }
        }
      ]
    },
    {
      "cell_type": "markdown",
      "metadata": {
        "id": "sI2Ylxln13Od"
      },
      "source": [
        "***Manhattan Distance Computation***"
      ]
    },
    {
      "cell_type": "code",
      "metadata": {
        "id": "NplDkr2LSy-C"
      },
      "source": [
        "# The below function generates the manhattan distance associated between the data point and the centroid\n",
        "def manhattan_distance_calculation(centroid_data, original_data):\n",
        "  centroid_number = np.array(centroid_data[1]) # In this we collect the cluster's centroid data point\n",
        "  datapoint_details = np.array(original_data[1]) # In this we store each data point\n",
        "  manhattan_distance = np.sqrt(np.sum(np.abs(centroid_number - datapoint_details))) # Manhattan distance computed is stored in this variable\n",
        "  return (original_data[0], (centroid_data[0],manhattan_distance)) # Return the (original data point, (associated cluster's centroid, manhattan distance obtained in between the points))\n",
        "\n",
        "# The below function caluclates the minimum distance obtained for each cluster and assigns those data points to that associated cluster\n",
        "def minimum1_distance(data_row):\n",
        "  data_index = data_row[0] # Obtaining index of the cluster's centroid\n",
        "  distance_centroids = data_row[1] # Getting the list of eucledian distances computed\n",
        "  centroid_minimum_index = -1 # Initialize the centroid's mimimum index to '-1' initially\n",
        "  min_distance = -1 # Initialize the minimum distance to '-1' initially\n",
        "  centroid_closest = None # Initialize the closest centroid value to 'None' initially\n",
        "  for i in distance_centroids: # In the below iterations we try to obtain the minimum distance for each data point i,e; the centroids\n",
        "    index_centroid = i[0]\n",
        "    distance_manhattan = i[1]\n",
        "    if (distance_manhattan < min_distance) or (min_distance == -1): # In this we check the if the obtained eucledian distance is minimum or not and attach that data point to the centroid closest\n",
        "      min_distance = distance_manhattan\n",
        "      centroid_minimum_index = index_centroid\n",
        "      centroid_closest = (centroid_minimum_index, min_distance)\n",
        "  return (data_index, centroid_closest) # Returning the data points that are closest to the choosen centroid\n",
        "\n",
        "# In this function we assign the data points to each associated cluster for which we pass inputs as original data and random obtained centroids\n",
        "def cluster1_assignment(centroids_data, original_data):\n",
        "  centroid = centroids_data.cartesian(original_data) # Obtaining all the combinations possible with the initial centroids obtained and the original data\n",
        "  distance_centroids_original_data = centroid.map(lambda a : manhattan_distance_calculation(a[0],a[1]))  # Calculating manhattan distance for each combination obtained\n",
        "  assign_datato_cluster_closest = distance_centroids_original_data.groupByKey().map(lambda a : (a[0],list(a[1]))).map(lambda a : minimum1_distance(a)) # Evaluating for the minimum distance that is obtained for computing the cost function\n",
        "  return assign_datato_cluster_closest # Returning the data points closest to the cluster centroids associated\n",
        "\n",
        "# In the below function we compute for the next set of centroids for the next iteration\n",
        "def computing1_centroid(indexof_centroid, elementsof_cluster):\n",
        "  final_cluster_elements = []\n",
        "  for item in elementsof_cluster:\n",
        "    final_cluster_elements.append(item[0])\n",
        "  array_average = list(np.average(final_cluster_elements, axis = 0)) # Centroid coordinates computation\n",
        "  centroid_obtained = (indexof_centroid, array_average)\n",
        "  return centroid_obtained\n",
        "\n",
        "# Computing new centroids from the previous centroids obtained in the before iterations\n",
        "def computing1_centroids(min_distance):\n",
        "  cluster_data = min_distance.join(rdd4).map(lambda a : (a[1][0][0],(a[1][1],a[1][0][1])))\n",
        "  cluster_data = cluster_data.groupByKey().map(lambda a : (a[0],list(a[1])))\n",
        "  centroids_obtained = cluster_data.map(lambda a : computing1_centroid(a[0],a[1]))\n",
        "  return centroids_obtained"
      ],
      "execution_count": null,
      "outputs": []
    },
    {
      "cell_type": "code",
      "metadata": {
        "id": "CgzoxN2hUvmL",
        "colab": {
          "base_uri": "https://localhost:8080/",
          "height": 357
        },
        "outputId": "fe3ddc56-4057-4da8-87f6-e543a7ce414f"
      },
      "source": [
        "iter1 = 0 # This variable is to update the number of iterations\n",
        "final_res1 = np.zeros((I,2)) # This variable stores the final manhattan cost obtained for each iteration\n",
        "gen_centroids1 = initial_centroids # These are initial centroids obtained in the above step\n",
        "cost_manhattan = dict() # This variable stores the eucledian cost of each iteration obtaine for computing the percentages of cost function associated for manhattan metric\n",
        "\n",
        "# In the below step we iterate the algorithm through I=20 iterations for evaluating the distance metrics and their associated cost functions\n",
        "while iter1 < I:\n",
        "\n",
        "  iter1 += 1 # Incrementing each iteration\n",
        "\n",
        "  assign_datato_cluster1 = cluster1_assignment(gen_centroids1, rdd4) # Obtaining the details of data points assigned for all the clusters associated\n",
        "\n",
        "  centroids_new_computed1 = computing1_centroids(assign_datato_cluster1) # Computing for the next set of cluster's centroids for the next set of iterations\n",
        "\n",
        "  clusters_assigned1 = assign_datato_cluster1.map(lambda a : a[1][1]**2) # Collecting all the centroids assigned for each cluster and finding their manhattan cost function distance\n",
        "\n",
        "  costfun_manhattan = clusters_assigned1.sum()  # We find the cost function for each iteration by summing all the centroid points for the associated clusters\n",
        "\n",
        "  print(\"Iteration Number %.1d : %.2f\" %(iter1,costfun_manhattan)) # We print the output of costfun obtained at each iteration\n",
        "\n",
        "  cost_manhattan[iter1] = costfun_manhattan # Stores the manhattan distance obtained for each iteration for computing its percentage and measure performances\n",
        "\n",
        "  final_res1[iter1-1,:] = np.array([iter1, costfun_manhattan]) # In this we store the iteration and its corresponding cost function obtaine for plotting the graph in successive steps\n",
        "\n",
        "  gen_centroids1 = sc.parallelize(centroids_new_computed1.collect()) # This stores the next set of centroids for the next iterations and again the process continues accordingly"
      ],
      "execution_count": null,
      "outputs": [
        {
          "output_type": "stream",
          "text": [
            "Iteration Number 1 : 958569.39\n",
            "Iteration Number 2 : 767789.19\n",
            "Iteration Number 3 : 687877.12\n",
            "Iteration Number 4 : 661932.13\n",
            "Iteration Number 5 : 641338.33\n",
            "Iteration Number 6 : 623144.20\n",
            "Iteration Number 7 : 593142.22\n",
            "Iteration Number 8 : 563166.49\n",
            "Iteration Number 9 : 551024.39\n",
            "Iteration Number 10 : 544837.88\n",
            "Iteration Number 11 : 539587.68\n",
            "Iteration Number 12 : 538133.15\n",
            "Iteration Number 13 : 526765.40\n",
            "Iteration Number 14 : 521557.42\n",
            "Iteration Number 15 : 512600.42\n",
            "Iteration Number 16 : 507717.21\n",
            "Iteration Number 17 : 505087.52\n",
            "Iteration Number 18 : 504247.06\n",
            "Iteration Number 19 : 506060.70\n",
            "Iteration Number 20 : 505416.56\n"
          ],
          "name": "stdout"
        }
      ]
    },
    {
      "cell_type": "code",
      "metadata": {
        "id": "qBHgeL0AU2gq",
        "colab": {
          "base_uri": "https://localhost:8080/",
          "height": 369
        },
        "outputId": "f963f2c4-6ffc-4b45-b088-b399f55e9ef3"
      },
      "source": [
        "figure2, axes2 = pl.subplots(1,1,figsize=(7,5)) # Specifying the dimensions of graph\n",
        "# In the below step we assign a line plot for the iterations and the cost function\n",
        "axes2.plot(final_res1[:,0], final_res1[:,1], 'yo-', linewidth = 2, markersize = 12, markeredgewidth = 2, label = 'Cost Function Normalized', fillstyle = 'none')\n",
        "axes2.set_xlabel(\"$No$ of $Iterations$ $(I)$\") # Setting the x-label to no.of iterations\n",
        "axes2.set_ylabel(\"$Cost$ Function $(Ψ)$\") # Setting the y-label to cost function of manhattan\n",
        "axes2.set_title(\"$K-$Means $Clustering$\") # Setting the title\n",
        "axes2.legend(loc=0) \n",
        "figure2.tight_layout() # Adjusts the graph to a tight layout\n",
        "pl.show() # Displays the plot"
      ],
      "execution_count": null,
      "outputs": [
        {
          "output_type": "display_data",
          "data": {
            "image/png": "[encoded data removed]",
            "text/plain": [
              "<Figure size 504x360 with 1 Axes>"
            ]
          },
          "metadata": {
            "tags": [],
            "needs_background": "light"
          }
        }
      ]
    },
    {
      "cell_type": "code",
      "metadata": {
        "id": "p6M9wGkUgLsR",
        "colab": {
          "base_uri": "https://localhost:8080/",
          "height": 71
        },
        "outputId": "4af2c132-9ef7-4457-dbe0-4f36b056c57b"
      },
      "source": [
        "print(cost_eucledian) # Obtained cost function eucledian distances for each iteration\n",
        "print(cost_manhattan) # Obtained cost function manhattan distances for each iteration"
      ],
      "execution_count": null,
      "outputs": [
        {
          "output_type": "stream",
          "text": [
            "{1: 1595577532.803464, 2: 1147160456.5323927, 3: 942957520.1347154, 4: 829474526.4362091, 5: 752453729.0211126, 6: 708943163.1018449, 7: 651932399.1510555, 8: 582365595.9775472, 9: 552070794.0032508, 10: 533702589.5855233, 11: 519432593.60194737, 12: 506301177.2496301, 13: 494716933.3030529, 14: 486704710.49104774, 15: 480679318.47587943, 16: 476481006.9484868, 17: 472585251.2828116, 18: 469372374.27053785, 19: 467589571.99354035, 20: 466356263.67412317}\n",
            "{1: 958569.393, 2: 767789.1920516832, 3: 687877.1161502841, 4: 661932.1282771446, 5: 641338.3266683676, 6: 623144.2030626906, 7: 593142.222917154, 8: 563166.4942385736, 9: 551024.3914909502, 10: 544837.8797422448, 11: 539587.6778174521, 12: 538133.1541718704, 13: 526765.3972203259, 14: 521557.419759156, 15: 512600.4212193517, 16: 507717.21369878296, 17: 505087.5232219464, 18: 504247.06109213165, 19: 506060.6955181513, 20: 505416.5624270871}\n"
          ],
          "name": "stdout"
        }
      ]
    },
    {
      "cell_type": "markdown",
      "metadata": {
        "id": "nKJrwH2rQ_qy"
      },
      "source": [
        "***Comparing Performances of Cost Functions between Eucledian and Manhattan in K-Means++:***\n",
        "\n",
        "From the graphs plotted for both the cost functions of Eucledian and Manhattan it is observable that the cost values obtained for each iteration for a Eucledian function have higher associated values and they decrease in a exponential manner.\n",
        "\n",
        "On observing the cost values obtained for each iteration for Manhattan function have lower associated values and they decrease in an exponential manner with some slight changes at a few iterations and later they decrease for the next set of iterations.\n",
        "\n",
        "So, we can observe that Eucledian distance measurement has higher performance than the Manhattan distance measurement since the data considered is obtained for lower dimensional vector space."
      ]
    },
    {
      "cell_type": "markdown",
      "metadata": {
        "id": "QTn4tkHU2OZx"
      },
      "source": [
        "***Cost Function Percentages Computation***"
      ]
    },
    {
      "cell_type": "code",
      "metadata": {
        "id": "HTy0s2U-jL1i",
        "colab": {
          "base_uri": "https://localhost:8080/",
          "height": 34
        },
        "outputId": "d358c4f1-3070-4c50-800b-1dae574d0527"
      },
      "source": [
        "# Computing the cost percentage for eucledian distance metric\n",
        "cost_percentage_eucledian = ((cost_eucledian[1] - cost_eucledian[10])/(cost_eucledian[1])) * 100\n",
        "cost_percentage_eucledian"
      ],
      "execution_count": null,
      "outputs": [
        {
          "output_type": "execute_result",
          "data": {
            "text/plain": [
              "66.55113408072395"
            ]
          },
          "metadata": {
            "tags": []
          },
          "execution_count": 14
        }
      ]
    },
    {
      "cell_type": "code",
      "metadata": {
        "id": "RGIyrEjgjqBc",
        "colab": {
          "base_uri": "https://localhost:8080/",
          "height": 34
        },
        "outputId": "92e6464e-0867-4d10-bba3-629f7f759309"
      },
      "source": [
        "# Computing the cost percentage for manhattan distance metric\n",
        "cost_percentage_manhattan = ((cost_manhattan[1] - cost_manhattan[10])/(cost_manhattan[1])) * 100\n",
        "cost_percentage_manhattan"
      ],
      "execution_count": null,
      "outputs": [
        {
          "output_type": "execute_result",
          "data": {
            "text/plain": [
              "43.16135235268827"
            ]
          },
          "metadata": {
            "tags": []
          },
          "execution_count": 15
        }
      ]
    },
    {
      "cell_type": "markdown",
      "metadata": {
        "id": "5djwZwdOwVFL"
      },
      "source": [
        "***Cost Functions Percentage in K-Means.ipynb:***\n",
        "\n",
        "a) Eucledian: 47.91588106137593\n",
        "\n",
        "b) Manhattan: 25.728879468765054\n",
        "\n",
        "***Cost Functions Percentage in K-Means++.ipynb:***\n",
        "\n",
        "a) Eucledian: 66.55113408072395\n",
        "\n",
        "b) Manhattan: 43.16135235268827\n"
      ]
    },
    {
      "cell_type": "markdown",
      "metadata": {
        "id": "v2hsWVAQjn_j"
      },
      "source": [
        "***Comparing performances between K-Means and K-Means++:***\n",
        "\n",
        "--> As we can see the results generated for both K-Means and K-Means++ in terms of their cost function percentages evaluated, it is clearly observable that K-Means++ has better performance than K-Means.\n",
        "\n",
        "--> The one reason this could take place is since the K-Means++ centroids are distributed over the data it is more likely to have reduced cost compared to that of K-Means where its centroids are randomly initialized.\n",
        "\n",
        "--> Also as the centroids are randomly initialized in K-Means it can generate different set of results based on the initial set of centroids choosen. So, in order to improve this the one solution that could help in increasing the performance of K-Means algorithm is to choose the initial centroids based on iterations but not in a random fashion.\n"
      ]
    },
    {
      "cell_type": "markdown",
      "metadata": {
        "id": "N9KNbOJ9z3lV"
      },
      "source": [
        "***Team Members Contribution:***\n",
        "\n",
        "***Prudhviraj Sheela***\n",
        "\n",
        "Worked on finding the computation parts of obtaining the initial set of clusters in both K-Means and K-Means++, in calculating the eucledian distance for both the algorithms and plotted the necessary line plot graphs for the eucledian cost functions.\n",
        "\n",
        "***Aman Masipeddi***\n",
        "\n",
        "Worked on finding the computation parts of manhattan distance and plotted the necessary line plot graphs for the manhattan cost functions in both K-Means and K-Means++ programs. Also worked on computing the cost percentage functions for both eucledian and manhattan in both the programs.\n",
        "\n",
        "\n",
        "As a whole we both discussed different points on how to compare the performances obtained for the cost functions percentages in both the programs and we had written the responses for it accordingly.\n",
        "\n",
        "\n"
      ]
    }
  ]
}