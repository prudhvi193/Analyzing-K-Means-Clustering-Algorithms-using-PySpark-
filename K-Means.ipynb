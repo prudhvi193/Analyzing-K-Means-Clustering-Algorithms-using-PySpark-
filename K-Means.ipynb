{
  "nbformat": 4,
  "nbformat_minor": 0,
  "metadata": {
    "colab": {
      "name": "Project-3/Group-12 (K-Means).ipynb",
      "provenance": [],
      "collapsed_sections": [],
      "authorship_tag": "ABX9TyMqSngppt91c/FhyiQpxH6Y",
      "include_colab_link": true
    },
    "kernelspec": {
      "name": "python3",
      "display_name": "Python 3"
    }
  },
  "cells": [
    {
      "cell_type": "markdown",
      "metadata": {
        "id": "view-in-github",
        "colab_type": "text"
      },
      "source": [
        "<a href=\"https://colab.research.google.com/github/prudhvi193/Analyzing-K-Means-Clustering-Algorithms-using-PySpark-/blob/main/K-Means.ipynb\" target=\"_parent\"><img src=\"https://colab.research.google.com/assets/colab-badge.svg\" alt=\"Open In Colab\"/></a>"
      ]
    },
    {
      "cell_type": "markdown",
      "metadata": {
        "id": "kA0QUvcGVYUQ"
      },
      "source": [
        "***K-Means Clustering***"
      ]
    },
    {
      "cell_type": "code",
      "metadata": {
        "id": "uYQ4LEJhwrR3",
        "colab": {
          "base_uri": "https://localhost:8080/",
          "height": 258
        },
        "outputId": "1e587f31-8f4c-45f6-f9c9-16de6997fcd4"
      },
      "source": [
        "# Name : Prudhviraj Sheela | OSU CWID : A20228857\n",
        "# Name : Aman Masipeddi | OSU CWID : A20198116  \n",
        "\n",
        "!pip install pyspark"
      ],
      "execution_count": null,
      "outputs": [
        {
          "output_type": "stream",
          "text": [
            "Collecting pyspark\n",
            "\u001b[?25l  Downloading https://files.pythonhosted.org/packages/f0/26/198fc8c0b98580f617cb03cb298c6056587b8f0447e20fa40c5b634ced77/pyspark-3.0.1.tar.gz (204.2MB)\n",
            "\u001b[K     |████████████████████████████████| 204.2MB 70kB/s \n",
            "\u001b[?25hCollecting py4j==0.10.9\n",
            "\u001b[?25l  Downloading https://files.pythonhosted.org/packages/9e/b6/6a4fb90cd235dc8e265a6a2067f2a2c99f0d91787f06aca4bcf7c23f3f80/py4j-0.10.9-py2.py3-none-any.whl (198kB)\n",
            "\u001b[K     |████████████████████████████████| 204kB 37.2MB/s \n",
            "\u001b[?25hBuilding wheels for collected packages: pyspark\n",
            "  Building wheel for pyspark (setup.py) ... \u001b[?25l\u001b[?25hdone\n",
            "  Created wheel for pyspark: filename=pyspark-3.0.1-py2.py3-none-any.whl size=204612243 sha256=726d3b50f1115efe3041309515c63fb4255902d79609154d0f335d39f8617333\n",
            "  Stored in directory: /root/.cache/pip/wheels/5e/bd/07/031766ca628adec8435bb40f0bd83bb676ce65ff4007f8e73f\n",
            "Successfully built pyspark\n",
            "Installing collected packages: py4j, pyspark\n",
            "Successfully installed py4j-0.10.9 pyspark-3.0.1\n"
          ],
          "name": "stdout"
        }
      ]
    },
    {
      "cell_type": "code",
      "metadata": {
        "id": "atup-smg0_r1"
      },
      "source": [
        "import pyspark # Importing PySpark\n",
        "from pyspark import SparkContext \n",
        "import numpy as np\n",
        "import itertools\n",
        "from operator import add\n",
        "import random\n",
        "k = 10 # Number of clusters\n",
        "I = 20 # Number of Iterations\n",
        "data_file = '/content/data.txt'\n",
        "data_content  = np.genfromtxt(data_file) # We initially use genfrmtxt for loading data and get the data into an array\n",
        "entries,dimensions = data_content.shape # This stores the details about the number of entries and its associated dimensions"
      ],
      "execution_count": null,
      "outputs": []
    },
    {
      "cell_type": "code",
      "metadata": {
        "id": "REPxhqsI1251"
      },
      "source": [
        "sc = SparkContext(\"local\",\"K-Means Algorithm: Clustering algorithm with random centroid initialization\") # Creating the Spark Context\n",
        "rdd1 = sc.textFile(data_file) # We read the text file and then preprocess it accordingly\n",
        "rdd2 = rdd1.map(lambda x : x.split()) # We split the data to collect individual data point as a list\n",
        "rdd3 = rdd2.map(lambda x : [float(i) for i in x]) # Converting each data point in the list from string to float\n",
        "rdd4 = rdd3.zipWithIndex().map(lambda x : (x[1],x[0])) # Assiging each data point an index"
      ],
      "execution_count": null,
      "outputs": []
    },
    {
      "cell_type": "markdown",
      "metadata": {
        "id": "cFAIUWlh2ziy"
      },
      "source": [
        "***Initial Random K-Centroids Computation***"
      ]
    },
    {
      "cell_type": "code",
      "metadata": {
        "id": "ev6HW0kJGXWf"
      },
      "source": [
        "# In this step for k-Means we generate the k random centroids as required\n",
        "\n",
        "# The below function generates the random centroids and assigns each obtained centroids with an index associated\n",
        "def random_generated_centroids(original_data,clusters_number):\n",
        "  cluster_data = sc.parallelize(original_data.takeSample(False, clusters_number))\n",
        "  centroids_data = cluster_data.map(lambda x : x[1]) # Accessing the data point from the cluster obtained\n",
        "  centroids_data = centroids_data.zipWithIndex().map(lambda x : (x[1],x[0])) # Assiging each centroid an index\n",
        "  return centroids_data\n",
        "  \n",
        "generated_centroids = random_generated_centroids(rdd4,k) # This stores the generated centroids"
      ],
      "execution_count": null,
      "outputs": []
    },
    {
      "cell_type": "code",
      "metadata": {
        "id": "fyMjGC3vV3-e",
        "colab": {
          "base_uri": "https://localhost:8080/",
          "height": 258
        },
        "outputId": "867f8a3c-f6d5-4b9b-b12c-43a232c1fcfa"
      },
      "source": [
        "# Below are the initial random clusters obtained for K-Means\n",
        "print(\"\\033[1m\" + \"K-Centroids obtained in K-Means.ipynb\" + \"\\033[1m\")\n",
        "print(\"\\n\")\n",
        "for item in generated_centroids.collect():\n",
        "  print(item)"
      ],
      "execution_count": null,
      "outputs": [
        {
          "output_type": "stream",
          "text": [
            "\u001b[1mK-Centroids obtained in K-Means.ipynb\u001b[1m\n",
            "\n",
            "\n",
            "(0, [0.32, 0.0, 0.16, 0.0, 0.0, 0.0, 0.0, 0.0, 0.0, 0.0, 0.0, 1.29, 0.48, 0.0, 0.0, 0.16, 0.0, 0.0, 2.43, 0.0, 0.32, 0.0, 0.0, 0.0, 0.0, 0.0, 0.0, 0.0, 0.0, 0.0, 0.0, 0.0, 0.0, 0.0, 0.0, 0.0, 0.0, 0.0, 0.16, 0.0, 0.0, 0.0, 0.0, 0.0, 0.48, 0.16, 0.0, 0.0, 0.0, 0.0, 0.0, 0.082, 0.0, 0.0, 1.704, 47.0, 167.0, 0.0])\n",
            "(1, [0.0, 0.36, 0.36, 0.0, 0.0, 0.0, 0.0, 0.0, 0.0, 0.36, 0.0, 0.0, 0.0, 0.0, 0.0, 0.0, 0.0, 0.0, 1.47, 0.0, 0.36, 8.85, 0.0, 0.0, 0.0, 0.0, 0.0, 0.0, 0.0, 0.0, 0.0, 0.0, 0.0, 0.0, 0.0, 0.0, 0.0, 0.0, 0.0, 0.0, 0.0, 0.0, 0.0, 0.0, 0.0, 0.0, 0.0, 0.0, 4.121, 0.0, 0.0, 0.063, 0.0, 0.507, 7.326, 43.0, 359.0, 0.0])\n",
            "(2, [0.28, 0.0, 0.28, 0.0, 0.57, 0.0, 0.0, 0.0, 0.0, 0.0, 0.0, 0.28, 0.0, 0.0, 0.0, 0.0, 0.0, 0.0, 2.87, 0.0, 0.86, 0.0, 0.0, 0.0, 0.0, 0.0, 0.0, 0.0, 0.0, 0.0, 0.0, 0.0, 0.0, 0.0, 0.0, 0.0, 0.0, 0.0, 0.0, 0.0, 0.0, 0.0, 0.0, 0.0, 0.0, 0.0, 0.0, 0.0, 0.0, 0.154, 0.0, 0.308, 0.0, 0.0, 1.148, 4.0, 54.0, 0.0])\n",
            "(3, [0.26, 0.0, 0.26, 0.0, 0.0, 0.0, 0.0, 0.0, 0.0, 0.0, 0.0, 0.26, 0.52, 0.0, 0.0, 0.0, 0.0, 0.0, 1.56, 0.0, 0.0, 0.0, 0.0, 0.0, 0.78, 0.26, 0.0, 0.0, 0.0, 0.0, 0.0, 0.0, 0.0, 0.0, 0.0, 0.0, 0.0, 0.0, 0.0, 0.26, 0.0, 0.0, 0.0, 0.0, 0.0, 0.0, 0.0, 0.0, 0.123, 0.041, 0.0, 0.041, 0.0, 0.0, 1.517, 4.0, 44.0, 0.0])\n",
            "(4, [0.0, 0.0, 0.0, 0.0, 0.0, 0.0, 0.0, 0.0, 0.0, 0.0, 0.0, 0.0, 0.0, 0.0, 0.0, 0.0, 0.0, 0.0, 0.0, 0.0, 0.0, 0.0, 0.0, 0.0, 0.0, 0.0, 0.0, 0.0, 0.0, 0.0, 0.0, 0.0, 3.44, 0.0, 0.0, 0.0, 0.0, 0.0, 0.0, 0.0, 0.0, 0.0, 0.0, 0.0, 0.0, 0.0, 0.0, 0.0, 0.0, 0.0, 0.0, 0.0, 0.0, 0.0, 1.5, 6.0, 66.0, 0.0])\n",
            "(5, [0.0, 0.0, 0.32, 0.0, 0.64, 0.64, 0.32, 0.32, 0.0, 0.0, 0.0, 0.32, 0.32, 0.0, 0.0, 0.32, 0.32, 0.0, 2.27, 0.0, 3.24, 0.0, 0.0, 0.32, 0.0, 0.0, 0.0, 0.0, 0.0, 0.0, 0.0, 0.0, 0.0, 0.0, 0.0, 0.0, 0.0, 0.0, 0.0, 0.0, 0.0, 0.0, 0.0, 0.0, 0.32, 0.0, 0.0, 0.0, 0.0, 0.106, 0.0, 0.0, 0.159, 0.053, 1.537, 10.0, 143.0, 1.0])\n",
            "(6, [0.1, 0.2, 1.01, 0.0, 0.8, 0.8, 0.5, 0.0, 0.8, 0.1, 0.3, 0.7, 0.3, 0.0, 1.61, 0.1, 0.0, 1.11, 1.31, 0.2, 0.7, 0.0, 0.6, 0.1, 0.0, 0.0, 0.0, 0.0, 0.0, 0.0, 0.0, 0.0, 0.0, 0.0, 0.0, 0.0, 0.0, 0.0, 0.0, 0.0, 0.0, 0.0, 0.2, 0.0, 0.1, 0.1, 0.0, 0.0, 0.0, 0.11, 0.0, 0.49, 0.158, 0.015, 8.55, 669.0, 1351.0, 1.0])\n",
            "(7, [0.0, 0.0, 0.0, 0.0, 0.0, 0.0, 0.0, 0.0, 0.0, 0.0, 0.0, 1.2, 0.0, 0.0, 0.0, 0.0, 0.0, 0.0, 0.0, 0.0, 0.0, 0.0, 0.0, 0.0, 0.0, 0.0, 0.0, 0.0, 0.0, 0.0, 0.0, 0.0, 0.0, 0.0, 0.0, 0.0, 1.2, 0.0, 0.0, 0.0, 0.0, 0.0, 0.0, 0.0, 1.2, 0.0, 0.0, 0.0, 0.0, 0.202, 0.0, 0.0, 0.0, 0.0, 1.533, 5.0, 23.0, 0.0])\n",
            "(8, [0.0, 0.0, 0.0, 0.0, 0.0, 0.0, 0.0, 0.0, 0.0, 0.0, 0.0, 0.0, 0.0, 0.0, 0.0, 0.0, 0.0, 0.0, 7.31, 0.0, 0.0, 0.0, 0.0, 0.0, 0.0, 0.0, 0.0, 0.0, 0.0, 0.0, 0.0, 0.0, 0.0, 0.0, 0.0, 0.0, 0.0, 0.0, 0.0, 0.0, 0.0, 0.0, 0.0, 0.0, 0.0, 0.0, 0.0, 0.0, 0.0, 0.0, 0.0, 0.0, 0.0, 0.0, 1.714, 4.0, 12.0, 0.0])\n",
            "(9, [0.0, 0.0, 0.0, 0.0, 2.94, 0.0, 0.0, 0.0, 0.0, 0.0, 0.0, 0.0, 0.0, 0.0, 0.0, 2.94, 0.0, 0.0, 0.0, 0.0, 0.0, 0.0, 0.0, 0.0, 0.0, 0.0, 0.0, 0.0, 0.0, 0.0, 0.0, 0.0, 0.0, 0.0, 0.0, 0.0, 0.0, 0.0, 0.0, 0.0, 0.0, 0.0, 0.0, 0.0, 0.0, 0.0, 0.0, 0.0, 0.355, 0.355, 0.0, 0.711, 0.0, 0.0, 4.0, 12.0, 28.0, 1.0])\n"
          ],
          "name": "stdout"
        }
      ]
    },
    {
      "cell_type": "markdown",
      "metadata": {
        "id": "H6yhSn-y2mv4"
      },
      "source": [
        "***Eucledian Distance Computation***"
      ]
    },
    {
      "cell_type": "code",
      "metadata": {
        "id": "UcJqW-Vh6Yzd"
      },
      "source": [
        "# The below function generates the eucledian distance associated between the data point and the centroid\n",
        "def euclidean_distance_calculation(centroid_data, original_data):\n",
        "  centroid_number = np.array(centroid_data[1]) # In this we collect the cluster's centroid data point\n",
        "  datapoint_details = np.array(original_data[1]) # In this we store each data point\n",
        "  euclidean_distance = np.sqrt(np.sum((centroid_number - datapoint_details)**2)) # Eucledian distance computed is stored in this variable\n",
        "  return (original_data[0], (centroid_data[0],euclidean_distance)) # Return the (original data point, (associated cluster's centroid, eucledian distance obtained in between the points))\n",
        "\n",
        "# The below function caluclates the minimum distance obtained for each cluster and assigns those data points to that associated cluster\n",
        "def minimum_distance(data_row):\n",
        "  data_index = data_row[0] # Obtaining index of the cluster's centroid\n",
        "  distance_centroids = data_row[1] # Getting the list of eucledian distances computed\n",
        "  centroid_minimum_index = -1 # Initialize the centroid's mimimum index to '-1' initially\n",
        "  min_distance = -1 # Initialize the minimum distance to '-1' initially\n",
        "  centroid_closest = None # Initialize the closest centroid value to 'None' initially\n",
        "  for i in distance_centroids: # In the below iterations we try to obtain the minimum distance for each data point i,e; the centroids\n",
        "    index_centroid = i[0]\n",
        "    distance_euclidean = i[1]\n",
        "    if (distance_euclidean < min_distance) or (min_distance == -1): # In this we check the if the obtained eucledian distance is minimum or not and attach that data point to the centroid closest\n",
        "      min_distance = distance_euclidean\n",
        "      centroid_minimum_index = index_centroid\n",
        "      centroid_closest = (centroid_minimum_index, min_distance)\n",
        "  return (data_index, centroid_closest) # Returning the data points that are closest to the choosen centroid\n",
        "\n",
        "# In this function we assign the data points to each associated cluster for which we pass inputs as original data and random obtained centroids\n",
        "def cluster_assignment(centroids_data, original_data):\n",
        "  centroid = centroids_data.cartesian(original_data) # Obtaining all the combinations possible with the initial centroids obtained and the original data\n",
        "  distance_centroids_original_data = centroid.map(lambda a : euclidean_distance_calculation(a[0],a[1])) # Calculating eucledian distance for each combination obtained\n",
        "  assign_datato_cluster_closest = distance_centroids_original_data.groupByKey().map(lambda a : (a[0],list(a[1]))).map(lambda a : minimum_distance(a)) # Evaluating for the minimum distance that is obtained for computing the cost function\n",
        "  return assign_datato_cluster_closest # Returning the data points closest to the cluster centroids associated\n",
        "\n",
        "# In the below functions we compute for the next set of centroids for the next iteration\n",
        "def computing_centroid(indexof_centroid, elementsof_cluster):\n",
        "  final_cluster_elements = []\n",
        "  for item in elementsof_cluster:\n",
        "    final_cluster_elements.append(item[0])\n",
        "  array_average = list(np.average(final_cluster_elements, axis = 0)) # Centroid coordinates computation\n",
        "  centroid_obtained = (indexof_centroid, array_average)\n",
        "  return centroid_obtained\n",
        "\n",
        "# Computing new centroids from the previous centroids obtained in the before iterations\n",
        "def computing_centroids(min_distance):\n",
        "  cluster_data = min_distance.join(rdd4).map(lambda a : (a[1][0][0],(a[1][1],a[1][0][1])))\n",
        "  cluster_data = cluster_data.groupByKey().map(lambda a : (a[0],list(a[1])))\n",
        "  centroids_obtained = cluster_data.map(lambda a : computing_centroid(a[0],a[1]))\n",
        "  return centroids_obtained"
      ],
      "execution_count": null,
      "outputs": []
    },
    {
      "cell_type": "code",
      "metadata": {
        "id": "pGknipjvL2YQ",
        "colab": {
          "base_uri": "https://localhost:8080/",
          "height": 357
        },
        "outputId": "0e08122e-0c74-403d-8052-d26c4f187a60"
      },
      "source": [
        "iter = 0 # This variable is to update the number of iterations\n",
        "final_res = np.zeros((I,2)) # This variable stores the final eucledian cost obtained for each iteration\n",
        "gen_centroids = generated_centroids # These are initial centroids obtained in the above step\n",
        "cost_eucledian = dict() # This variable stores the eucledian cost of each iteration obtaine for computing the percentages of cost function associated for eucledian metric\n",
        "\n",
        "# In the below step we iterate the algorithm through I=20 iterations for evaluating the distance metrics and their associated cost functions\n",
        "while iter < I:\n",
        "\n",
        "  iter += 1 # Incrementing each iteration\n",
        "\n",
        "  assign_datato_cluster = cluster_assignment(gen_centroids, rdd4) # Obtaining the details of data points assigned for all the clusters associated\n",
        "\n",
        "  centroids_new_computed = computing_centroids(assign_datato_cluster) # Computing for the next set of cluster's centroids for the next set of iterations\n",
        "\n",
        "  clusters_assigned = assign_datato_cluster.map(lambda a : a[1][1]**2) # Collecting all the centroids assigned for each cluster\n",
        "\n",
        "  costfun_eucledian = clusters_assigned.sum() # We find the cost function for each iteration by summing all the centroid points for the associated clusters\n",
        "\n",
        "  print(\"Iteration Number %.1d : %.2f\" %(iter,costfun_eucledian)) # We print the output of costfun obtained at each iteration\n",
        "\n",
        "  cost_eucledian[iter] = costfun_eucledian # Stores the eucledian distance obtained for each iteration for computing its percentage and measure performances\n",
        "\n",
        "  final_res[iter-1,:] = np.array([iter, costfun_eucledian]) # In this we store the iteration and its corresponding cost function obtaine for plotting the graph in successive steps\n",
        "\n",
        "  gen_centroids = sc.parallelize(centroids_new_computed.collect()) # This stores the next set of centroids for the next iterations and again the process continues accordingly"
      ],
      "execution_count": null,
      "outputs": [
        {
          "output_type": "stream",
          "text": [
            "Iteration Number 1 : 955844429.75\n",
            "Iteration Number 2 : 770606550.11\n",
            "Iteration Number 3 : 713994150.32\n",
            "Iteration Number 4 : 669544358.32\n",
            "Iteration Number 5 : 593738239.31\n",
            "Iteration Number 6 : 554699520.20\n",
            "Iteration Number 7 : 537124280.85\n",
            "Iteration Number 8 : 522491566.84\n",
            "Iteration Number 9 : 509276106.89\n",
            "Iteration Number 10 : 497843149.66\n",
            "Iteration Number 11 : 489690778.70\n",
            "Iteration Number 12 : 483876251.23\n",
            "Iteration Number 13 : 479260562.35\n",
            "Iteration Number 14 : 475621541.59\n",
            "Iteration Number 15 : 472029945.98\n",
            "Iteration Number 16 : 469600133.00\n",
            "Iteration Number 17 : 467874696.81\n",
            "Iteration Number 18 : 466653537.67\n",
            "Iteration Number 19 : 465425481.59\n",
            "Iteration Number 20 : 464584435.44\n"
          ],
          "name": "stdout"
        }
      ]
    },
    {
      "cell_type": "code",
      "metadata": {
        "id": "Rc8qR7J1Q9Ee",
        "colab": {
          "base_uri": "https://localhost:8080/",
          "height": 369
        },
        "outputId": "18e58dab-8b59-4db4-fe7a-49cd4c70399c"
      },
      "source": [
        "# Below packages are necessary for creating the line plots\n",
        "import matplotlib as mplib\n",
        "import matplotlib.pyplot as pl\n",
        "figure1, axes1 = pl.subplots(1,1,figsize=(7,5)) # Specifying the dimensions of graph\n",
        "# In the below step we assign a line plot for the iterations and the cost function\n",
        "axes1.plot(final_res[:,0], final_res[:,1], 'go-', linewidth = 2, markersize = 12, markeredgewidth = 2, label = 'Cost Function Normalized', fillstyle = 'none')\n",
        "axes1.set_xlabel(\"$No$ of $Iterations$ $(I)$\") # Setting the x-label to no.of iterations\n",
        "axes1.set_ylabel(\"$Cost$ Function $(Φ)$\") # Setting the y-label to cost function of eucledian\n",
        "axes1.set_title(\"$K-$Means $Clustering$\") # Assigning the title for the graph\n",
        "axes1.legend(loc=0)\n",
        "figure1.tight_layout() # Adjusts the graph to a tight layout\n",
        "pl.show() # Displays the plot"
      ],
      "execution_count": null,
      "outputs": [
        {
          "output_type": "display_data",
          "data": {
            "image/png": "[encoded data removed]",
            "text/plain": [
              "<Figure size 504x360 with 1 Axes>"
            ]
          },
          "metadata": {
            "tags": [],
            "needs_background": "light"
          }
        }
      ]
    },
    {
      "cell_type": "markdown",
      "metadata": {
        "id": "yqZmo8j72jMl"
      },
      "source": [
        "***Manhattan Distance Computation***"
      ]
    },
    {
      "cell_type": "code",
      "metadata": {
        "id": "vJ1TWx5FVnDx"
      },
      "source": [
        "# The below function generates the manhattan distance associated between the data point and the centroid\n",
        "def manhattan_distance_calculation(centroid_data, original_data):\n",
        "  centroid_number = np.array(centroid_data[1]) # In this we collect the cluster's centroid data point\n",
        "  datapoint_details = np.array(original_data[1]) # In this we store each data point\n",
        "  manhattan_distance = np.sqrt(np.sum(np.abs(centroid_number - datapoint_details))) # Manhattan distance computed is stored in this variable\n",
        "  return (original_data[0], (centroid_data[0],manhattan_distance)) # Return the (original data point, (associated cluster's centroid, manhattan distance obtained in between the points))\n",
        "\n",
        "# The below function caluclates the minimum distance obtained for each cluster and assigns those data points to that associated cluster\n",
        "def minimum1_distance(data_row):\n",
        "  data_index = data_row[0] # Obtaining index of the cluster's centroid\n",
        "  distance_centroids = data_row[1] # Getting the list of eucledian distances computed\n",
        "  centroid_minimum_index = -1 # Initialize the centroid's mimimum index to '-1' initially\n",
        "  min_distance = -1 # Initialize the minimum distance to '-1' initially\n",
        "  centroid_closest = None # Initialize the closest centroid value to 'None' initially\n",
        "  for i in distance_centroids: # In the below iterations we try to obtain the minimum distance for each data point i,e; the centroids\n",
        "    index_centroid = i[0]\n",
        "    distance_manhattan = i[1]\n",
        "    if (distance_manhattan < min_distance) or (min_distance == -1): # In this we check the if the obtained eucledian distance is minimum or not and attach that data point to the centroid closest\n",
        "      min_distance = distance_manhattan\n",
        "      centroid_minimum_index = index_centroid\n",
        "      centroid_closest = (centroid_minimum_index, min_distance)\n",
        "  return (data_index, centroid_closest) # Returning the data points that are closest to the choosen centroid\n",
        "\n",
        "# In this function we assign the data points to each associated cluster for which we pass inputs as original data and random obtained centroids\n",
        "def cluster1_assignment(centroids_data, original_data):\n",
        "  centroid = centroids_data.cartesian(original_data) # Obtaining all the combinations possible with the initial centroids obtained and the original data\n",
        "  distance_centroids_original_data = centroid.map(lambda a : manhattan_distance_calculation(a[0],a[1]))  # Calculating manhattan distance for each combination obtained\n",
        "  assign_datato_cluster_closest = distance_centroids_original_data.groupByKey().map(lambda a : (a[0],list(a[1]))).map(lambda a : minimum1_distance(a)) # Evaluating for the minimum distance that is obtained for computing the cost function\n",
        "  return assign_datato_cluster_closest # Returning the data points closest to the cluster centroids associated\n",
        "\n",
        "# In the below function we compute for the next set of centroids for the next iteration\n",
        "def computing1_centroid(indexof_centroid, elementsof_cluster):\n",
        "  final_cluster_elements = []\n",
        "  for item in elementsof_cluster:\n",
        "    final_cluster_elements.append(item[0])\n",
        "  array_average = list(np.average(final_cluster_elements, axis = 0)) # Centroid coordinates computation\n",
        "  centroid_obtained = (indexof_centroid, array_average)\n",
        "  return centroid_obtained\n",
        "\n",
        "# Computing new centroids from the previous centroids obtained in the before iterations\n",
        "def computing1_centroids(min_distance):\n",
        "  cluster_data = min_distance.join(rdd4).map(lambda a : (a[1][0][0],(a[1][1],a[1][0][1])))\n",
        "  cluster_data = cluster_data.groupByKey().map(lambda a : (a[0],list(a[1])))\n",
        "  centroids_obtained = cluster_data.map(lambda a : computing1_centroid(a[0],a[1]))\n",
        "  return centroids_obtained"
      ],
      "execution_count": null,
      "outputs": []
    },
    {
      "cell_type": "code",
      "metadata": {
        "id": "p4ezh20rZBGT",
        "colab": {
          "base_uri": "https://localhost:8080/",
          "height": 357
        },
        "outputId": "2fc80078-ca61-48ba-e4e3-29b299f8119c"
      },
      "source": [
        "iter1 = 0 # This variable is to update the number of iterations\n",
        "final_res1 = np.zeros((I,2)) # This variable stores the final manhattan cost obtained for each iteration\n",
        "gen_centroids1 = generated_centroids # These are initial centroids obtained in the above step\n",
        "cost_manhattan = dict() # This variable stores the eucledian cost of each iteration obtaine for computing the percentages of cost function associated for manhattan metric\n",
        "\n",
        "# In the below step we iterate the algorithm through I=20 iterations for evaluating the distance metrics and their associated cost functions\n",
        "while iter1 < I:\n",
        "\n",
        "  iter1 += 1 # Incrementing each iteration\n",
        "\n",
        "  assign_datato_cluster1 = cluster1_assignment(gen_centroids1, rdd4) # Obtaining the details of data points assigned for all the clusters associated\n",
        "\n",
        "  centroids_new_computed1 = computing1_centroids(assign_datato_cluster1) # Computing for the next set of cluster's centroids for the next set of iterations\n",
        "\n",
        "  clusters_assigned1 = assign_datato_cluster1.map(lambda a : a[1][1]**2) # Collecting all the centroids assigned for each cluster and finding their manhattan cost function distance\n",
        "\n",
        "  costfun_manhattan = clusters_assigned1.sum() # We find the cost function for each iteration by summing all the centroid points for the associated clusters\n",
        "\n",
        "  print(\"Iteration Number %.1d : %.2f\" %(iter1,costfun_manhattan)) # We print the output of costfun obtained at each iteration\n",
        "\n",
        "  cost_manhattan[iter1] = costfun_manhattan # Stores the manhattan distance obtained for each iteration for computing its percentage and measure performances\n",
        "\n",
        "  final_res1[iter1-1,:] = np.array([iter1, costfun_manhattan]) # In this we store the iteration and its corresponding cost function obtaine for plotting the graph in successive steps\n",
        "\n",
        "  gen_centroids1 = sc.parallelize(centroids_new_computed1.collect()) # This stores the next set of centroids for the next iterations and again the process continues accordingly"
      ],
      "execution_count": null,
      "outputs": [
        {
          "output_type": "stream",
          "text": [
            "Iteration Number 1 : 726705.14\n",
            "Iteration Number 2 : 636808.85\n",
            "Iteration Number 3 : 615798.24\n",
            "Iteration Number 4 : 596109.33\n",
            "Iteration Number 5 : 565889.28\n",
            "Iteration Number 6 : 553109.94\n",
            "Iteration Number 7 : 547507.88\n",
            "Iteration Number 8 : 542410.26\n",
            "Iteration Number 9 : 541645.45\n",
            "Iteration Number 10 : 539732.05\n",
            "Iteration Number 11 : 537037.04\n",
            "Iteration Number 12 : 529036.52\n",
            "Iteration Number 13 : 522884.05\n",
            "Iteration Number 14 : 514936.73\n",
            "Iteration Number 15 : 510307.67\n",
            "Iteration Number 16 : 509884.18\n",
            "Iteration Number 17 : 508656.54\n",
            "Iteration Number 18 : 507280.86\n",
            "Iteration Number 19 : 507084.12\n",
            "Iteration Number 20 : 507304.03\n"
          ],
          "name": "stdout"
        }
      ]
    },
    {
      "cell_type": "code",
      "metadata": {
        "id": "0bY-rqXAarRm",
        "colab": {
          "base_uri": "https://localhost:8080/",
          "height": 369
        },
        "outputId": "7a8acfd3-dffd-4cea-8fb3-d9265f4fba3c"
      },
      "source": [
        "figure2, axes2 = pl.subplots(1,1,figsize=(7,5)) # Specifying the dimensions of graph\n",
        "# In the below step we assign a line plot for the iterations and the cost function\n",
        "axes2.plot(final_res1[:,0], final_res1[:,1], 'yo-', linewidth = 2, markersize = 12, markeredgewidth = 2, label = 'Cost Function Normalized', fillstyle = 'none')\n",
        "axes2.set_xlabel(\"$No$ of $Iterations$ $(I)$\") # Setting the x-label to no.of iterations\n",
        "axes2.set_ylabel(\"$Cost$ Function $(Ψ)$\") # Setting the y-label to cost function of manhattan\n",
        "axes2.set_title(\"$K-$Means $Clustering$\") # Setting the title\n",
        "axes2.legend(loc=0) \n",
        "figure2.tight_layout() # Adjusts the graph to a tight layout\n",
        "pl.show() # Displays the plot"
      ],
      "execution_count": null,
      "outputs": [
        {
          "output_type": "display_data",
          "data": {
            "image/png": "[encoded data removed]",
            "text/plain": [
              "<Figure size 504x360 with 1 Axes>"
            ]
          },
          "metadata": {
            "tags": [],
            "needs_background": "light"
          }
        }
      ]
    },
    {
      "cell_type": "code",
      "metadata": {
        "id": "Wl8M8TxUi9NC",
        "colab": {
          "base_uri": "https://localhost:8080/",
          "height": 71
        },
        "outputId": "74cb0dfe-487e-484b-a03e-7d721bd202a0"
      },
      "source": [
        "print(cost_eucledian) # Obtained cost function eucledian distances for each iteration\n",
        "print(cost_manhattan) # Obtained cost function manhattan distances for each iteration"
      ],
      "execution_count": null,
      "outputs": [
        {
          "output_type": "stream",
          "text": [
            "{1: 955844429.7457709, 2: 770606550.1131579, 3: 713994150.3170426, 4: 669544358.3178422, 5: 593738239.312279, 6: 554699520.2019842, 7: 537124280.8483045, 8: 522491566.8423621, 9: 509276106.8945793, 10: 497843149.65700036, 11: 489690778.704455, 12: 483876251.23350155, 13: 479260562.35411006, 14: 475621541.59323484, 15: 472029945.97873735, 16: 469600133.0017873, 17: 467874696.8143021, 18: 466653537.67190623, 19: 465425481.586493, 20: 464584435.435215}\n",
            "{1: 726705.1429999971, 2: 636808.8526927799, 3: 615798.2389699906, 4: 596109.333453991, 5: 565889.2845853057, 6: 553109.9420330096, 7: 547507.8752673643, 8: 542410.2637471502, 9: 541645.4471447584, 10: 539732.0526642111, 11: 537037.0411554038, 12: 529036.5167434113, 13: 522884.0499468459, 14: 514936.7282078957, 15: 510307.66642149905, 16: 509884.1778773581, 17: 508656.5422214374, 18: 507280.8590601689, 19: 507084.1178220546, 20: 507304.0286557707}\n"
          ],
          "name": "stdout"
        }
      ]
    },
    {
      "cell_type": "markdown",
      "metadata": {
        "id": "lzbyfS1RO_uc"
      },
      "source": [
        "***Comparing Performances of Cost Functions between Eucledian and Manhattan in K-Means:***\n",
        "\n",
        "From the graphs plotted for both the cost functions of Eucledian and Manhattan it is observable that the cost values obtained for each iteration for a Eucledian function have higher associated values and they decrease in a exponential manner.\n",
        "\n",
        "On observing the cost values obtained for each iteration for Manhattan function have lower associated values and they decrease in an exponential manner with some slight changes at a few iterations and later they decrease for the next set of iterations.\n",
        "\n",
        "So, we can observe that Eucledian distance measurement has higher performance than the Manhattan distance measurement since the data considered is obtained for lower dimensional data."
      ]
    },
    {
      "cell_type": "markdown",
      "metadata": {
        "id": "wKodVUw82drq"
      },
      "source": [
        "***Cost Function Percentages Computation***"
      ]
    },
    {
      "cell_type": "code",
      "metadata": {
        "id": "p5GNKwxRjKtV",
        "colab": {
          "base_uri": "https://localhost:8080/",
          "height": 34
        },
        "outputId": "c8ddc04e-45fe-4aaa-a65c-82b124974239"
      },
      "source": [
        "# Computing the cost percentage for eucledian distance metric\n",
        "cost_percentage_eucledian = ((cost_eucledian[1] - cost_eucledian[10])/(cost_eucledian[1])) * 100\n",
        "cost_percentage_eucledian"
      ],
      "execution_count": null,
      "outputs": [
        {
          "output_type": "execute_result",
          "data": {
            "text/plain": [
              "47.91588106137593"
            ]
          },
          "metadata": {
            "tags": []
          },
          "execution_count": 13
        }
      ]
    },
    {
      "cell_type": "code",
      "metadata": {
        "id": "0sqSBm7Hj9Vy",
        "colab": {
          "base_uri": "https://localhost:8080/",
          "height": 34
        },
        "outputId": "9a86dae2-464a-439e-ab73-14e5b5a1d1de"
      },
      "source": [
        "# Computing the cost percentage for manhattan distance metric\n",
        "cost_percentage_manhattan = ((cost_manhattan[1] - cost_manhattan[10])/(cost_manhattan[1])) * 100\n",
        "cost_percentage_manhattan"
      ],
      "execution_count": null,
      "outputs": [
        {
          "output_type": "execute_result",
          "data": {
            "text/plain": [
              "25.728879468765054"
            ]
          },
          "metadata": {
            "tags": []
          },
          "execution_count": 14
        }
      ]
    }
  ]
}